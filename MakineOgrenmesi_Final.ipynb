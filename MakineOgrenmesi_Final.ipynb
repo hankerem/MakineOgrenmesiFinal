{
  "nbformat": 4,
  "nbformat_minor": 0,
  "metadata": {
    "colab": {
      "provenance": []
    },
    "kernelspec": {
      "name": "python3",
      "display_name": "Python 3"
    },
    "language_info": {
      "name": "python"
    }
  },
  "cells": [
    {
      "cell_type": "markdown",
      "source": [
        "Madde1\n",
        "\n",
        "İmport ve Datasetler yükleniyor.\n",
        "Min-MaxNormalizasyonu ve Z-Score Normalizasyonlarını uygulanıyor."
      ],
      "metadata": {
        "id": "4XkWH6b0IcO-"
      }
    },
    {
      "cell_type": "code",
      "execution_count": 93,
      "metadata": {
        "id": "TnktZRuzH73O"
      },
      "outputs": [],
      "source": [
        "import pandas as pd\n",
        "from sklearn.model_selection import train_test_split\n",
        "from sklearn.preprocessing import StandardScaler\n",
        "from sklearn.ensemble import RandomForestClassifier\n",
        "from sklearn.metrics import accuracy_score\n",
        "from sklearn.naive_bayes import GaussianNB\n",
        "from sklearn.metrics import classification_report\n",
        "from sklearn.model_selection import train_test_split, GridSearchCV\n",
        "from sklearn.neighbors import KNeighborsClassifier\n",
        "from sklearn.metrics import classification_report\n",
        "from sklearn.neural_network import MLPClassifier\n",
        "from sklearn.svm import SVC\n",
        "import matplotlib.pyplot as plt\n",
        "from sklearn.metrics import roc_curve, auc\n",
        "from sklearn.preprocessing import MinMaxScaler\n"
      ]
    },
    {
      "cell_type": "code",
      "source": [
        "# Veri setini yükle\n",
        "data = pd.read_csv(\"DataMakineOgrenmesi.csv\")\n"
      ],
      "metadata": {
        "id": "T0popK_VH-Iz"
      },
      "execution_count": 94,
      "outputs": []
    },
    {
      "cell_type": "code",
      "source": [
        "# Veri setinden ilk 10 kaydı getiriyorum\n",
        "print(data.head(10))"
      ],
      "metadata": {
        "colab": {
          "base_uri": "https://localhost:8080/"
        },
        "id": "5PslFuhuI4Cf",
        "outputId": "a6915652-b300-4be9-9c0b-9a87a13f3a95"
      },
      "execution_count": 95,
      "outputs": [
        {
          "output_type": "stream",
          "name": "stdout",
          "text": [
            "   Number of times pregnant.  \\\n",
            "0                          6   \n",
            "1                          1   \n",
            "2                          8   \n",
            "3                          1   \n",
            "4                          0   \n",
            "5                          5   \n",
            "6                          3   \n",
            "7                         10   \n",
            "8                          2   \n",
            "9                          8   \n",
            "\n",
            "   Plasma glucose concentration a 2 hours in an oral glucose tolerance test.  \\\n",
            "0                                                148                           \n",
            "1                                                 85                           \n",
            "2                                                183                           \n",
            "3                                                 89                           \n",
            "4                                                137                           \n",
            "5                                                116                           \n",
            "6                                                 78                           \n",
            "7                                                115                           \n",
            "8                                                197                           \n",
            "9                                                125                           \n",
            "\n",
            "   Diastolic blood pressure (mm Hg).  Triceps skinfold thickness (mm).  \\\n",
            "0                                 72                                35   \n",
            "1                                 66                                29   \n",
            "2                                 64                                 0   \n",
            "3                                 66                                23   \n",
            "4                                 40                                35   \n",
            "5                                 74                                 0   \n",
            "6                                 50                                32   \n",
            "7                                  0                                 0   \n",
            "8                                 70                                45   \n",
            "9                                 96                                 0   \n",
            "\n",
            "   2-Hour serum insulin (mu U/ml).  \\\n",
            "0                                0   \n",
            "1                                0   \n",
            "2                                0   \n",
            "3                               94   \n",
            "4                              168   \n",
            "5                                0   \n",
            "6                               88   \n",
            "7                                0   \n",
            "8                              543   \n",
            "9                                0   \n",
            "\n",
            "   Body mass index (weight in kg/(height in m)^2).  \\\n",
            "0                                             33.6   \n",
            "1                                             26.6   \n",
            "2                                             23.3   \n",
            "3                                             28.1   \n",
            "4                                             43.1   \n",
            "5                                             25.6   \n",
            "6                                             31.0   \n",
            "7                                             35.3   \n",
            "8                                             30.5   \n",
            "9                                              0.0   \n",
            "\n",
            "   Diabetes pedigree function.  Age (years).  Class variable (0 or 1).  \n",
            "0                        0.627            50                         1  \n",
            "1                        0.351            31                         0  \n",
            "2                        0.672            32                         1  \n",
            "3                        0.167            21                         0  \n",
            "4                        2.288            33                         1  \n",
            "5                        0.201            30                         0  \n",
            "6                        0.248            26                         1  \n",
            "7                        0.134            29                         0  \n",
            "8                        0.158            53                         1  \n",
            "9                        0.232            54                         1  \n"
          ]
        }
      ]
    },
    {
      "cell_type": "code",
      "source": [
        "# Veri setini incele\n",
        "print(data.head())\n",
        "print(data.info())\n",
        "print(data.describe())"
      ],
      "metadata": {
        "colab": {
          "base_uri": "https://localhost:8080/"
        },
        "id": "zMYG_oUk0gyt",
        "outputId": "0a34cf80-b342-4ddc-86b9-2b02de0e891b"
      },
      "execution_count": 96,
      "outputs": [
        {
          "output_type": "stream",
          "name": "stdout",
          "text": [
            "   Number of times pregnant.  \\\n",
            "0                          6   \n",
            "1                          1   \n",
            "2                          8   \n",
            "3                          1   \n",
            "4                          0   \n",
            "\n",
            "   Plasma glucose concentration a 2 hours in an oral glucose tolerance test.  \\\n",
            "0                                                148                           \n",
            "1                                                 85                           \n",
            "2                                                183                           \n",
            "3                                                 89                           \n",
            "4                                                137                           \n",
            "\n",
            "   Diastolic blood pressure (mm Hg).  Triceps skinfold thickness (mm).  \\\n",
            "0                                 72                                35   \n",
            "1                                 66                                29   \n",
            "2                                 64                                 0   \n",
            "3                                 66                                23   \n",
            "4                                 40                                35   \n",
            "\n",
            "   2-Hour serum insulin (mu U/ml).  \\\n",
            "0                                0   \n",
            "1                                0   \n",
            "2                                0   \n",
            "3                               94   \n",
            "4                              168   \n",
            "\n",
            "   Body mass index (weight in kg/(height in m)^2).  \\\n",
            "0                                             33.6   \n",
            "1                                             26.6   \n",
            "2                                             23.3   \n",
            "3                                             28.1   \n",
            "4                                             43.1   \n",
            "\n",
            "   Diabetes pedigree function.  Age (years).  Class variable (0 or 1).  \n",
            "0                        0.627            50                         1  \n",
            "1                        0.351            31                         0  \n",
            "2                        0.672            32                         1  \n",
            "3                        0.167            21                         0  \n",
            "4                        2.288            33                         1  \n",
            "<class 'pandas.core.frame.DataFrame'>\n",
            "RangeIndex: 768 entries, 0 to 767\n",
            "Data columns (total 9 columns):\n",
            " #   Column                                                                     Non-Null Count  Dtype  \n",
            "---  ------                                                                     --------------  -----  \n",
            " 0   Number of times pregnant.                                                  768 non-null    int64  \n",
            " 1   Plasma glucose concentration a 2 hours in an oral glucose tolerance test.  768 non-null    int64  \n",
            " 2   Diastolic blood pressure (mm Hg).                                          768 non-null    int64  \n",
            " 3   Triceps skinfold thickness (mm).                                           768 non-null    int64  \n",
            " 4   2-Hour serum insulin (mu U/ml).                                            768 non-null    int64  \n",
            " 5   Body mass index (weight in kg/(height in m)^2).                            768 non-null    float64\n",
            " 6   Diabetes pedigree function.                                                768 non-null    float64\n",
            " 7   Age (years).                                                               768 non-null    int64  \n",
            " 8   Class variable (0 or 1).                                                   768 non-null    int64  \n",
            "dtypes: float64(2), int64(7)\n",
            "memory usage: 54.1 KB\n",
            "None\n",
            "       Number of times pregnant.  \\\n",
            "count                 768.000000   \n",
            "mean                    3.845052   \n",
            "std                     3.369578   \n",
            "min                     0.000000   \n",
            "25%                     1.000000   \n",
            "50%                     3.000000   \n",
            "75%                     6.000000   \n",
            "max                    17.000000   \n",
            "\n",
            "       Plasma glucose concentration a 2 hours in an oral glucose tolerance test.  \\\n",
            "count                                         768.000000                           \n",
            "mean                                          120.894531                           \n",
            "std                                            31.972618                           \n",
            "min                                             0.000000                           \n",
            "25%                                            99.000000                           \n",
            "50%                                           117.000000                           \n",
            "75%                                           140.250000                           \n",
            "max                                           199.000000                           \n",
            "\n",
            "       Diastolic blood pressure (mm Hg).  Triceps skinfold thickness (mm).  \\\n",
            "count                         768.000000                        768.000000   \n",
            "mean                           69.105469                         20.536458   \n",
            "std                            19.355807                         15.952218   \n",
            "min                             0.000000                          0.000000   \n",
            "25%                            62.000000                          0.000000   \n",
            "50%                            72.000000                         23.000000   \n",
            "75%                            80.000000                         32.000000   \n",
            "max                           122.000000                         99.000000   \n",
            "\n",
            "       2-Hour serum insulin (mu U/ml).  \\\n",
            "count                       768.000000   \n",
            "mean                         79.799479   \n",
            "std                         115.244002   \n",
            "min                           0.000000   \n",
            "25%                           0.000000   \n",
            "50%                          30.500000   \n",
            "75%                         127.250000   \n",
            "max                         846.000000   \n",
            "\n",
            "       Body mass index (weight in kg/(height in m)^2).  \\\n",
            "count                                       768.000000   \n",
            "mean                                         31.992578   \n",
            "std                                           7.884160   \n",
            "min                                           0.000000   \n",
            "25%                                          27.300000   \n",
            "50%                                          32.000000   \n",
            "75%                                          36.600000   \n",
            "max                                          67.100000   \n",
            "\n",
            "       Diabetes pedigree function.  Age (years).  Class variable (0 or 1).  \n",
            "count                   768.000000    768.000000                768.000000  \n",
            "mean                      0.471876     33.240885                  0.348958  \n",
            "std                       0.331329     11.760232                  0.476951  \n",
            "min                       0.078000     21.000000                  0.000000  \n",
            "25%                       0.243750     24.000000                  0.000000  \n",
            "50%                       0.372500     29.000000                  0.000000  \n",
            "75%                       0.626250     41.000000                  1.000000  \n",
            "max                       2.420000     81.000000                  1.000000  \n"
          ]
        }
      ]
    },
    {
      "cell_type": "code",
      "source": [
        "# Eksik verileri kontrol et\n",
        "print(data.isnull().sum())"
      ],
      "metadata": {
        "colab": {
          "base_uri": "https://localhost:8080/"
        },
        "id": "PUceFTZ00z61",
        "outputId": "68e0d262-f17c-4970-b3f6-0f3dca16ebac"
      },
      "execution_count": 97,
      "outputs": [
        {
          "output_type": "stream",
          "name": "stdout",
          "text": [
            "Number of times pregnant.                                                    0\n",
            "Plasma glucose concentration a 2 hours in an oral glucose tolerance test.    0\n",
            "Diastolic blood pressure (mm Hg).                                            0\n",
            "Triceps skinfold thickness (mm).                                             0\n",
            "2-Hour serum insulin (mu U/ml).                                              0\n",
            "Body mass index (weight in kg/(height in m)^2).                              0\n",
            "Diabetes pedigree function.                                                  0\n",
            "Age (years).                                                                 0\n",
            "Class variable (0 or 1).                                                     0\n",
            "dtype: int64\n"
          ]
        }
      ]
    },
    {
      "cell_type": "markdown",
      "source": [
        "Min-Max Normalizasyonu"
      ],
      "metadata": {
        "id": "1I-6cvcziruH"
      }
    },
    {
      "cell_type": "code",
      "source": [
        "# Özellikleri ayır\n",
        "features = data.drop(\"Class variable (0 or 1).\", axis=1)\n",
        "\n",
        "# Min-Max normalizasyonu için scaler oluştur\n",
        "scaler = MinMaxScaler()\n",
        "\n",
        "# Veriyi normalleştir\n",
        "normalized_features = scaler.fit_transform(features)\n",
        "\n",
        "# Normalleştirilmiş veriyi DataFrame'e dönüştür\n",
        "normalized_data = pd.DataFrame(normalized_features, columns=features.columns)\n",
        "\n",
        "# Sonuçları kontrol et\n",
        "print(normalized_data.head())"
      ],
      "metadata": {
        "colab": {
          "base_uri": "https://localhost:8080/"
        },
        "id": "0oQADK0Sip8a",
        "outputId": "625ea715-bdc7-448e-9b89-c8006bcc0f91"
      },
      "execution_count": 98,
      "outputs": [
        {
          "output_type": "stream",
          "name": "stdout",
          "text": [
            "   Number of times pregnant.  \\\n",
            "0                   0.352941   \n",
            "1                   0.058824   \n",
            "2                   0.470588   \n",
            "3                   0.058824   \n",
            "4                   0.000000   \n",
            "\n",
            "   Plasma glucose concentration a 2 hours in an oral glucose tolerance test.  \\\n",
            "0                                           0.743719                           \n",
            "1                                           0.427136                           \n",
            "2                                           0.919598                           \n",
            "3                                           0.447236                           \n",
            "4                                           0.688442                           \n",
            "\n",
            "   Diastolic blood pressure (mm Hg).  Triceps skinfold thickness (mm).  \\\n",
            "0                           0.590164                          0.353535   \n",
            "1                           0.540984                          0.292929   \n",
            "2                           0.524590                          0.000000   \n",
            "3                           0.540984                          0.232323   \n",
            "4                           0.327869                          0.353535   \n",
            "\n",
            "   2-Hour serum insulin (mu U/ml).  \\\n",
            "0                         0.000000   \n",
            "1                         0.000000   \n",
            "2                         0.000000   \n",
            "3                         0.111111   \n",
            "4                         0.198582   \n",
            "\n",
            "   Body mass index (weight in kg/(height in m)^2).  \\\n",
            "0                                         0.500745   \n",
            "1                                         0.396423   \n",
            "2                                         0.347243   \n",
            "3                                         0.418778   \n",
            "4                                         0.642325   \n",
            "\n",
            "   Diabetes pedigree function.  Age (years).  \n",
            "0                     0.234415      0.483333  \n",
            "1                     0.116567      0.166667  \n",
            "2                     0.253629      0.183333  \n",
            "3                     0.038002      0.000000  \n",
            "4                     0.943638      0.200000  \n"
          ]
        }
      ]
    },
    {
      "cell_type": "markdown",
      "source": [
        "Z-Score Normalizasyonu\n"
      ],
      "metadata": {
        "id": "nA7jdnXejWZB"
      }
    },
    {
      "cell_type": "code",
      "source": [
        "# Z-Score normalizasyonu için scaler oluştur\n",
        "scaler = StandardScaler()\n",
        "\n",
        "# Veriyi normalleştir\n",
        "normalized_features = scaler.fit_transform(features)\n",
        "\n",
        "# Normalleştirilmiş veriyi DataFrame'e dönüştür\n",
        "normalized_data = pd.DataFrame(normalized_features, columns=features.columns)\n",
        "\n",
        "# Sonuçları kontrol et\n",
        "print(normalized_data.head())"
      ],
      "metadata": {
        "colab": {
          "base_uri": "https://localhost:8080/"
        },
        "id": "nLv6Y93CjU8I",
        "outputId": "96369136-32cf-4e4e-d006-205304a914f0"
      },
      "execution_count": 99,
      "outputs": [
        {
          "output_type": "stream",
          "name": "stdout",
          "text": [
            "   Number of times pregnant.  \\\n",
            "0                   0.639947   \n",
            "1                  -0.844885   \n",
            "2                   1.233880   \n",
            "3                  -0.844885   \n",
            "4                  -1.141852   \n",
            "\n",
            "   Plasma glucose concentration a 2 hours in an oral glucose tolerance test.  \\\n",
            "0                                           0.848324                           \n",
            "1                                          -1.123396                           \n",
            "2                                           1.943724                           \n",
            "3                                          -0.998208                           \n",
            "4                                           0.504055                           \n",
            "\n",
            "   Diastolic blood pressure (mm Hg).  Triceps skinfold thickness (mm).  \\\n",
            "0                           0.149641                          0.907270   \n",
            "1                          -0.160546                          0.530902   \n",
            "2                          -0.263941                         -1.288212   \n",
            "3                          -0.160546                          0.154533   \n",
            "4                          -1.504687                          0.907270   \n",
            "\n",
            "   2-Hour serum insulin (mu U/ml).  \\\n",
            "0                        -0.692891   \n",
            "1                        -0.692891   \n",
            "2                        -0.692891   \n",
            "3                         0.123302   \n",
            "4                         0.765836   \n",
            "\n",
            "   Body mass index (weight in kg/(height in m)^2).  \\\n",
            "0                                         0.204013   \n",
            "1                                        -0.684422   \n",
            "2                                        -1.103255   \n",
            "3                                        -0.494043   \n",
            "4                                         1.409746   \n",
            "\n",
            "   Diabetes pedigree function.  Age (years).  \n",
            "0                     0.468492      1.425995  \n",
            "1                    -0.365061     -0.190672  \n",
            "2                     0.604397     -0.105584  \n",
            "3                    -0.920763     -1.041549  \n",
            "4                     5.484909     -0.020496  \n"
          ]
        }
      ]
    },
    {
      "cell_type": "code",
      "source": [
        "# Bağımsız değişkenler (X) ve bağımlı değişken (y) olarak veriyi ayır\n",
        "X = data.drop(columns=['Class variable (0 or 1).'])\n",
        "y = data['Class variable (0 or 1).']"
      ],
      "metadata": {
        "id": "QGaleKpRIDAY"
      },
      "execution_count": 100,
      "outputs": []
    },
    {
      "cell_type": "code",
      "source": [
        "# Eğitim ve test veri setlerini ayır\n",
        "X_train, X_test, y_train, y_test = train_test_split(X, y, test_size=0.3, random_state=42)\n",
        "\n",
        "# Öznitelik ölçekleme\n",
        "scaler = StandardScaler()\n",
        "X_train_scaled = scaler.fit_transform(X_train)\n",
        "X_test_scaled = scaler.transform(X_test)\n",
        "\n",
        "# Model oluşturma ve eğitme\n",
        "model = RandomForestClassifier(n_estimators=100, random_state=42)\n",
        "model.fit(X_train_scaled, y_train)\n",
        "\n",
        "# Modeli değerlendirme\n",
        "y_pred = model.predict(X_test_scaled)\n",
        "accuracy = accuracy_score(y_test, y_pred)\n",
        "print(\"Test veri seti doğruluk skoru:\", accuracy)"
      ],
      "metadata": {
        "colab": {
          "base_uri": "https://localhost:8080/"
        },
        "id": "3RYQSCd3IFCI",
        "outputId": "cd5da644-d5f0-49f5-d69b-3b4db14a223b"
      },
      "execution_count": 101,
      "outputs": [
        {
          "output_type": "stream",
          "name": "stdout",
          "text": [
            "Test veri seti doğruluk skoru: 0.7575757575757576\n"
          ]
        }
      ]
    },
    {
      "cell_type": "code",
      "source": [
        "# Test veri seti üzerinde tahmin edilen olasılıkları al\n",
        "y_pred_prob = model.predict_proba(X_test_scaled)[:, 1]\n",
        "\n",
        "# ROC eğrisi ve AUC değerini hesapla\n",
        "fpr, tpr, thresholds = roc_curve(y_test, y_pred_prob)\n",
        "roc_auc = auc(fpr, tpr)\n",
        "\n",
        "# ROC eğrisini çiz\n",
        "plt.figure()\n",
        "plt.plot(fpr, tpr, color='darkorange', lw=2, label='ROC curve (area = %0.2f)' % roc_auc)\n",
        "plt.plot([0, 1], [0, 1], color='navy', lw=2, linestyle='--')\n",
        "plt.xlim([0.0, 1.0])\n",
        "plt.ylim([0.0, 1.05])\n",
        "plt.xlabel('False Positive Rate')\n",
        "plt.ylabel('True Positive Rate')\n",
        "plt.title('Receiver Operating Characteristic')\n",
        "plt.legend(loc=\"lower right\")\n",
        "plt.show()"
      ],
      "metadata": {
        "colab": {
          "base_uri": "https://localhost:8080/",
          "height": 472
        },
        "id": "I2VimaRgLxvP",
        "outputId": "e4ad344e-ce29-4996-fb06-ac27a92326a3"
      },
      "execution_count": 102,
      "outputs": [
        {
          "output_type": "display_data",
          "data": {
            "text/plain": [
              "<Figure size 640x480 with 1 Axes>"
            ],
            "image/png": "[encoded data removed]"
          },
          "metadata": {}
        }
      ]
    },
    {
      "cell_type": "markdown",
      "source": [
        "Madde 2\n",
        "\n",
        "Naive Bayes modeli, test verisi üzerinde kabul edilebilir bir performans göstermiştir.Bu sonuçlar, modelin iyileştirilmesi için ek parametre ayarlamaları veya farklı sınıflandırma yöntemlerinin denenmesi gerektiğini göstermektedir.\n"
      ],
      "metadata": {
        "id": "bEi9MwXiIaaH"
      }
    },
    {
      "cell_type": "code",
      "source": [
        "# Naive Bayes sınıflandırıcı modelini oluştur ve eğit\n",
        "nb_model = GaussianNB()\n",
        "nb_model.fit(X_train, y_train)\n",
        "\n",
        "# Test veri seti üzerinde tahmin yap\n",
        "y_pred = nb_model.predict(X_test)\n",
        "\n",
        "# Sınıflandırma raporunu görüntüle\n",
        "print(\"Sınıflandırma Raporu:\")\n",
        "print(classification_report(y_test, y_pred))\n",
        "\n"
      ],
      "metadata": {
        "colab": {
          "base_uri": "https://localhost:8080/"
        },
        "id": "03PWUGBFJO1I",
        "outputId": "37dfaabf-d96a-4550-d336-a88a30ec0d6a"
      },
      "execution_count": 103,
      "outputs": [
        {
          "output_type": "stream",
          "name": "stdout",
          "text": [
            "Sınıflandırma Raporu:\n",
            "              precision    recall  f1-score   support\n",
            "\n",
            "           0       0.82      0.79      0.80       151\n",
            "           1       0.62      0.66      0.64        80\n",
            "\n",
            "    accuracy                           0.74       231\n",
            "   macro avg       0.72      0.73      0.72       231\n",
            "weighted avg       0.75      0.74      0.75       231\n",
            "\n"
          ]
        }
      ]
    },
    {
      "cell_type": "markdown",
      "source": [
        "Madde 3\n",
        "\n",
        "En iyi k değeri aşağıdaki  range 1-21 değerlendirmesinde 13 çıktı, eğer 1-6 için alınırsa 2 olarak sonuç üretmektedir."
      ],
      "metadata": {
        "id": "GG6aFYRvJjvz"
      }
    },
    {
      "cell_type": "code",
      "source": [
        "# En iyi k değerini bulma kod rutini\n",
        "best_k = None\n",
        "best_accuracy = 0\n",
        "\n",
        "for k in range(1, 21):\n",
        "    knn_model = KNeighborsClassifier(n_neighbors=k)\n",
        "    knn_model.fit(X_train, y_train)\n",
        "    knn_predictions = knn_model.predict(X_test)\n",
        "    accuracy = accuracy_score(y_test, knn_predictions)\n",
        "\n",
        "    if accuracy > best_accuracy:\n",
        "        best_accuracy = accuracy\n",
        "        best_k = k\n",
        "\n",
        "print(\"En iyi k değeri:\", best_k)\n",
        "\n",
        "# En iyi k değeri ile K-en yakın komşuluk modelini eğit\n",
        "knn_model = KNeighborsClassifier(n_neighbors=best_k)\n",
        "knn_model.fit(X_train, y_train)\n",
        "\n",
        "# Test seti üzerinde modelin performansını değerlendir\n",
        "knn_predictions = knn_model.predict(X_test)\n",
        "\n",
        "# Sınıflandırma raporunu görüntüle\n",
        "print(\"\\nSınıflandırma Raporu:\")\n",
        "print(classification_report(y_test, knn_predictions))"
      ],
      "metadata": {
        "colab": {
          "base_uri": "https://localhost:8080/"
        },
        "id": "PDjdAZXu1LIq",
        "outputId": "06a5e1f7-d20a-4629-cbc1-3d7f81d967de"
      },
      "execution_count": 104,
      "outputs": [
        {
          "output_type": "stream",
          "name": "stdout",
          "text": [
            "En iyi k değeri: 13\n",
            "\n",
            "Sınıflandırma Raporu:\n",
            "              precision    recall  f1-score   support\n",
            "\n",
            "           0       0.78      0.85      0.81       151\n",
            "           1       0.66      0.55      0.60        80\n",
            "\n",
            "    accuracy                           0.74       231\n",
            "   macro avg       0.72      0.70      0.71       231\n",
            "weighted avg       0.74      0.74      0.74       231\n",
            "\n"
          ]
        }
      ]
    },
    {
      "cell_type": "markdown",
      "source": [
        "Madde 4\n",
        "\n",
        "Aşağıdaki sonuçlar, modelin iyi bir doğruluk oranına sahip olduğunu, ancak özellikle pozitif sınıf için duyarlılık ve kesinliğin daha da iyileştirilebileceğini göstermektedir. Yanlış negatif ve yanlış pozitif oranlarının azaltılması için modelin daha da optimize edilmesi gerekebilir.\n",
        "\n",
        "Multi-Layer Perceptron (MLP): Yapay sinir ağı tabanlı bir sınıflandırma modelidir. İnsan beyninin sinir ağı yapısını taklit eden bir yapay sinir ağı modelidir.\n",
        "\n",
        "Support Vector Machines (SVM) : Sınıflandırma ve regresyon problemlerinde kullanılan bir makine öğrenimi algoritmasıdır. SVM, özellikle doğrusal ve doğrusal olmayan sınıflandırma problemlerinde etkilidir.\n"
      ],
      "metadata": {
        "id": "Tdk9HRIeJ92z"
      }
    },
    {
      "cell_type": "code",
      "source": [
        "# MLP sınıflandırıcısı modelini oluştur ve eğit\n",
        "mlp_model = MLPClassifier(random_state=42)\n",
        "mlp_model.fit(X_train, y_train)\n",
        "\n",
        "# Test veri seti üzerinde tahmin yap\n",
        "y_pred_mlp = mlp_model.predict(X_test)\n",
        "\n",
        "# MLP sınıflandırıcısı sonuçlarını raporla\n",
        "print(\"MLP Sınıflandırıcı Raporu:\")\n",
        "print(classification_report(y_test, y_pred_mlp))\n",
        "\n",
        "# SVM sınıflandırıcısı modelini oluştur ve eğit\n",
        "svm_model = SVC(random_state=42)\n",
        "svm_model.fit(X_train, y_train)\n",
        "\n",
        "# Test veri seti üzerinde tahmin yap\n",
        "y_pred_svm = svm_model.predict(X_test)\n",
        "\n",
        "# SVM sınıflandırıcısı sonuçlarını raporla\n",
        "print(\"\\nSVM Sınıflandırıcı Raporu:\")\n",
        "print(classification_report(y_test, y_pred_svm))\n",
        "\n",
        "\n"
      ],
      "metadata": {
        "colab": {
          "base_uri": "https://localhost:8080/"
        },
        "id": "DKOZ4VmQJ_wA",
        "outputId": "3915626c-9a92-4387-85e3-c90cd2e3d06f"
      },
      "execution_count": 105,
      "outputs": [
        {
          "output_type": "stream",
          "name": "stdout",
          "text": [
            "MLP Sınıflandırıcı Raporu:\n",
            "              precision    recall  f1-score   support\n",
            "\n",
            "           0       0.77      0.81      0.79       151\n",
            "           1       0.61      0.55      0.58        80\n",
            "\n",
            "    accuracy                           0.72       231\n",
            "   macro avg       0.69      0.68      0.69       231\n",
            "weighted avg       0.72      0.72      0.72       231\n",
            "\n",
            "\n",
            "SVM Sınıflandırıcı Raporu:\n",
            "              precision    recall  f1-score   support\n",
            "\n",
            "           0       0.76      0.87      0.81       151\n",
            "           1       0.66      0.49      0.56        80\n",
            "\n",
            "    accuracy                           0.74       231\n",
            "   macro avg       0.71      0.68      0.69       231\n",
            "weighted avg       0.73      0.74      0.72       231\n",
            "\n"
          ]
        }
      ]
    },
    {
      "cell_type": "code",
      "source": [
        "# MLP modelini eğit\n",
        "mlp_model = MLPClassifier()\n",
        "mlp_model.fit(X_train, y_train)\n",
        "\n",
        "# SVM modelini eğit\n",
        "svm_model = SVC()\n",
        "svm_model.fit(X_train, y_train)\n",
        "\n",
        "# Test seti üzerinde her iki modelin performansını değerlendir\n",
        "mlp_predictions = mlp_model.predict(X_test)\n",
        "svm_predictions = svm_model.predict(X_test)\n",
        "\n",
        "print(\"MLP için rapor:\")\n",
        "print(classification_report(y_test, mlp_predictions))\n",
        "\n",
        "print(\"SVM için rapor:\")\n",
        "print(classification_report(y_test, svm_predictions))"
      ],
      "metadata": {
        "colab": {
          "base_uri": "https://localhost:8080/"
        },
        "id": "SovUv5TD2BR1",
        "outputId": "037d6dfa-4504-4a59-8640-578f18c38f03"
      },
      "execution_count": 106,
      "outputs": [
        {
          "output_type": "stream",
          "name": "stdout",
          "text": [
            "MLP için rapor:\n",
            "              precision    recall  f1-score   support\n",
            "\n",
            "           0       0.74      0.89      0.81       151\n",
            "           1       0.67      0.40      0.50        80\n",
            "\n",
            "    accuracy                           0.72       231\n",
            "   macro avg       0.70      0.65      0.65       231\n",
            "weighted avg       0.71      0.72      0.70       231\n",
            "\n",
            "SVM için rapor:\n",
            "              precision    recall  f1-score   support\n",
            "\n",
            "           0       0.76      0.87      0.81       151\n",
            "           1       0.66      0.49      0.56        80\n",
            "\n",
            "    accuracy                           0.74       231\n",
            "   macro avg       0.71      0.68      0.69       231\n",
            "weighted avg       0.73      0.74      0.72       231\n",
            "\n"
          ]
        },
        {
          "output_type": "stream",
          "name": "stderr",
          "text": [
            "/usr/local/lib/python3.10/dist-packages/sklearn/neural_network/_multilayer_perceptron.py:686: ConvergenceWarning: Stochastic Optimizer: Maximum iterations (200) reached and the optimization hasn't converged yet.\n",
            "  warnings.warn(\n"
          ]
        }
      ]
    }
  ]
}